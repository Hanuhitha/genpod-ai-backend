{
 "cells": [
  {
   "cell_type": "code",
   "execution_count": 22,
   "metadata": {},
   "outputs": [
    {
     "data": {
      "text/plain": [
       "True"
      ]
     },
     "execution_count": 22,
     "metadata": {},
     "output_type": "execute_result"
    }
   ],
   "source": [
    "import os\n",
    "from pprint import pprint\n",
    "from dotenv import load_dotenv\n",
    "\n",
    "load_dotenv()"
   ]
  },
  {
   "cell_type": "markdown",
   "metadata": {},
   "source": [
    "## Loading LLM\n",
    "We will load OpenAI GPT-4 LLM to assist our agents"
   ]
  },
  {
   "cell_type": "code",
   "execution_count": 23,
   "metadata": {},
   "outputs": [],
   "source": [
    "from langchain_openai import ChatOpenAI\n",
    "\n",
    "llm = ChatOpenAI(model=\"gpt-4-1106-preview\")"
   ]
  },
  {
   "cell_type": "markdown",
   "metadata": {},
   "source": [
    "## Import Modules Needed for this Project"
   ]
  },
  {
   "cell_type": "code",
   "execution_count": 24,
   "metadata": {},
   "outputs": [],
   "source": [
    "from langchain_core.prompts import ChatPromptTemplate, MessagesPlaceholder\n",
    "from langchain.prompts import PromptTemplate\n",
    "from langchain_core.output_parsers import StrOutputParser\n",
    "from langchain_core.output_parsers import JsonOutputParser\n",
    "from langchain.schema import Document\n",
    "from typing_extensions import TypedDict\n",
    "from typing import List\n",
    "import json"
   ]
  },
  {
   "cell_type": "markdown",
   "metadata": {},
   "source": [
    "## Let us create some Utility function"
   ]
  },
  {
   "cell_type": "code",
   "execution_count": 5,
   "metadata": {},
   "outputs": [],
   "source": [
    "def write_python_file(content, filename):\n",
    "    \"\"\"Writes the given content as a python file to the local directory.\n",
    "\n",
    "    Args:\n",
    "        content: The string content to write to the file.\n",
    "        filename: The filename to save the file as.\n",
    "    \"\"\"\n",
    "    # Get the directory of the current script\n",
    "    script_dir = os.path.dirname(os.path.realpath(__file__))\n",
    "    \n",
    "    # Construct the full path to the file\n",
    "    file_path = os.path.join(script_dir, 'src', f\"{filename}.py\")\n",
    "    \n",
    "    # Ensure the 'src' directory exists, if not, create it\n",
    "    src_dir = os.path.join(script_dir, 'src')\n",
    "    if not os.path.exists(src_dir):\n",
    "        os.makedirs(src_dir)\n",
    "    \n",
    "    # Write the content to the file\n",
    "    with open(file_path, \"w\") as f:\n",
    "        f.write(content)"
   ]
  },
  {
   "cell_type": "code",
   "execution_count": 8,
   "metadata": {},
   "outputs": [],
   "source": [
    "def read_input_json(file_path) -> str:\n",
    "    \"\"\"Reads JSON data from a file and returns it as a string.\n",
    "\n",
    "    Args:\n",
    "        file_path: The path to the JSON file.\n",
    "\n",
    "    Returns:\n",
    "        A string representation of the JSON data.\n",
    "    \"\"\"\n",
    "    with open(file_path, 'r') as user_input_file:\n",
    "        data = json.load(user_input_file)\n",
    "    \n",
    "    user_input = json.dumps(data)\n",
    "\n",
    "    return user_input\n"
   ]
  },
  {
   "cell_type": "markdown",
   "metadata": {},
   "source": [
    "## Create a Generaric funtion to create an Agent"
   ]
  },
  {
   "cell_type": "code",
   "execution_count": 12,
   "metadata": {},
   "outputs": [],
   "source": [
    "# To dynamically create any number of agents\n",
    "from langchain_core.prompts import ChatPromptTemplate, MessagesPlaceholder\n",
    "from langchain.prompts import PromptTemplate\n",
    "from langchain_core.output_parsers import StrOutputParser\n",
    "\n",
    "from langchain_core.messages import (\n",
    "    BaseMessage,\n",
    "    ToolMessage,\n",
    "    HumanMessage,\n",
    ")\n",
    "# from langchain_core.prompts import ChatPromptTemplate, MessagesPlaceholder\n",
    "from langgraph.graph import END, StateGraph\n",
    "\n",
    "# def create_agent(llm: ChatOpenAI, tools: list, system_prompt: str):\n",
    "#     # Define the prompt using LCEL\n",
    "#     prompt = ChatPromptTemplate.from_messages([\n",
    "#         (\"system\", system_prompt),\n",
    "#         MessagesPlaceholder(variable_name=\"messages\"),\n",
    "#         MessagesPlaceholder(variable_name=\"agent_scratchpad\"),\n",
    "#     ])\n",
    "    \n",
    "#     # Create the agent using LCEL\n",
    "#     agent = (\n",
    "#         {\n",
    "#             \"messages\": lambda x: x[\"messages\"],\n",
    "#             \"agent_scratchpad\": lambda x: x[\"agent_scratchpad\"],\n",
    "#         }\n",
    "#         | prompt\n",
    "#         | llm\n",
    "#         | StrOutputParser()\n",
    "#     )\n",
    "    \n",
    "#     return agent\n",
    "def create_agent(llm, tools, system_message: str):\n",
    "    \"\"\"Create an agent.\"\"\"\n",
    "    prompt = ChatPromptTemplate.from_messages(\n",
    "        [\n",
    "            (\n",
    "                \"system\",\n",
    "                \"You are a helpful AI assistant, collaborating with other assistants.\"\n",
    "                \" Use the provided tools to progress towards completing the task.\"\n",
    "                \" If you are unable to fully Complete the task, that's OK, another assistant with different tools \"\n",
    "                \" will help where you left off. Execute what you can to make progress.\"\n",
    "                \" If you or any of the other assistants have the final answer or deliverable,\"\n",
    "                \" prefix your response with FINAL ANSWER so the team knows to stop.\"\n",
    "                \" You have access to the following tools: {tool_names}.\\n{system_message}\",\n",
    "            ),\n",
    "            MessagesPlaceholder(variable_name=\"messages\"),\n",
    "        ]\n",
    "    )\n",
    "    prompt = prompt.partial(system_message=system_message)\n",
    "    if not tools:\n",
    "        prompt = prompt.partial(tool_names=\"\")\n",
    "        return prompt | llm\n",
    "    prompt = prompt.partial(tool_names=\", \".join([tool.name for tool in tools]))\n",
    "    return prompt | llm.bind_tools(tools)"
   ]
  },
  {
   "cell_type": "markdown",
   "metadata": {},
   "source": [
    "## Define tools to be used by Agents"
   ]
  },
  {
   "cell_type": "code",
   "execution_count": null,
   "metadata": {},
   "outputs": [],
   "source": [
    "from langchain_core.tools import tool, StructuredTool\n",
    "from typing import Annotated\n",
    "import os\n",
    "\n",
    "PROJECT_PATH = \"Projects\"\n",
    "\n",
    "@tool\n",
    "def write_generated_code_to_file(\n",
    "    generated_code: Annotated[str, \"The code generated by the agent.\"],\n",
    "    file_path: Annotated[str, \"The path where the generated code should be written.\"],\n",
    "    project_folder: Annotated[str, \"The name of the project where all files needed for the project are to placed.\"]\n",
    "):\n",
    "    \"\"\"\n",
    "    Writes the provided generated code to the specified file within the project structure.\n",
    "\n",
    "    Args:\n",
    "        generated_code (str): The code generated by the agent.\n",
    "        file_path (str): The path where the generated code should be written.\n",
    "    \"\"\"\n",
    "    try:\n",
    "        # Prepend PROJECT_PATH to the file_path to ensure all projects are written to the PROJECT_PATH parent folder\n",
    "        parent_dir_path= os.path.dirname(PROJECT_PATH)\n",
    "        full_path = os.path.join(parent_dir_path, project_folder, file_path)\n",
    "\n",
    "        # Ensure the directory exists before writing the file\n",
    "        os.makedirs(os.path.dirname(full_path), exist_ok=True)\n",
    "        \n",
    "        # Write the generated code to the file\n",
    "        with open(full_path, 'w') as file:\n",
    "            file.write(generated_code)\n",
    "        \n",
    "        return f\"Successfully wrote generated code to {full_path}.\"\n",
    "    except BaseException as e:\n",
    "        return f\"Failed to write generated code. Error: {repr(e)}\"\n",
    "    "
   ]
  },
  {
   "cell_type": "code",
   "execution_count": null,
   "metadata": {},
   "outputs": [],
   "source": [
    "# writer_tool = StructuredTool.from_function(write_generated_code_to_file)"
   ]
  },
  {
   "cell_type": "markdown",
   "metadata": {},
   "source": [
    "## Define State"
   ]
  },
  {
   "cell_type": "code",
   "execution_count": null,
   "metadata": {},
   "outputs": [],
   "source": [
    "import operator\n",
    "from typing import Annotated, Sequence, TypedDict\n",
    "\n",
    "from langchain_openai import ChatOpenAI\n",
    "from typing_extensions import TypedDict\n",
    "\n",
    "\n",
    "# This defines the object that is passed between each node\n",
    "# in the graph. We will create different nodes for each agent and tool\n",
    "class AgentState(TypedDict):\n",
    "    messages: Annotated[Sequence[BaseMessage], operator.add]\n",
    "    sender: str"
   ]
  },
  {
   "cell_type": "markdown",
   "metadata": {},
   "source": [
    "## Define Agent Nodes"
   ]
  },
  {
   "cell_type": "code",
   "execution_count": null,
   "metadata": {},
   "outputs": [],
   "source": [
    "import functools\n",
    "from langchain_core.messages import AIMessage\n",
    "from langchain.agents import AgentType\n",
    "\n",
    "\n",
    "# Helper function to create a node for a given agent\n",
    "def agent_node(state, agent, name):\n",
    "    result = agent.invoke(state)\n",
    "    # We convert the agent output into a format that is suitable to append to the global state\n",
    "    if isinstance(result, ToolMessage):\n",
    "        pass\n",
    "    else:\n",
    "        result = AIMessage(**result.dict(exclude={\"type\", \"name\"}), name=name)\n",
    "    return {\n",
    "        \"messages\": [result],\n",
    "        # Since we have a strict workflow, we can\n",
    "        # track the sender so we know who to pass to next.\n",
    "        \"sender\": name,\n",
    "    }\n",
    "\n",
    "# architect agent and node\n",
    "Solution_Architect = create_agent(\n",
    "    llm,\n",
    "    [],\n",
    "    system_message=\"You are a requirements specialist and you should break down requirement given to you into well defined deliverables and provide them to the coder one task at a time.\",\n",
    ")\n",
    "architect_node = functools.partial(agent_node, agent=Solution_Architect, name=\"Architect\")\n",
    "\n",
    "coder_agent = create_agent(\n",
    "    llm,\n",
    "    [write_generated_code_to_file],\n",
    "    system_message=\"Source files generated by you are written to the local directory\",\n",
    ")\n",
    "coder_node = functools.partial(agent_node, agent=coder_agent, name=\"Coder\")"
   ]
  },
  {
   "cell_type": "markdown",
   "metadata": {},
   "source": [
    "## Define a Tool Node"
   ]
  },
  {
   "cell_type": "code",
   "execution_count": null,
   "metadata": {},
   "outputs": [],
   "source": [
    "from langgraph.prebuilt import ToolNode\n",
    "\n",
    "tools = [write_generated_code_to_file]\n",
    "tool_node = ToolNode(tools)"
   ]
  },
  {
   "cell_type": "markdown",
   "metadata": {},
   "source": [
    "## Define Edge Logic"
   ]
  },
  {
   "cell_type": "code",
   "execution_count": null,
   "metadata": {},
   "outputs": [],
   "source": [
    "# Either agent can decide to end\n",
    "from typing import Literal\n",
    "\n",
    "\n",
    "def router(state) -> Literal[\"call_tool\", \"__end__\", \"continue\"]:\n",
    "    # This is the router\n",
    "    messages = state[\"messages\"]\n",
    "    last_message = messages[-1]\n",
    "    if last_message.tool_calls:\n",
    "        # The previus agent is invoking a tool\n",
    "        return \"call_tool\"\n",
    "    if \"FINAL ANSWER\" in last_message.content:\n",
    "        # Any agent decided the work is done\n",
    "        return \"__end__\"\n",
    "    return \"continue\""
   ]
  },
  {
   "cell_type": "markdown",
   "metadata": {},
   "source": [
    "## Define the Graph"
   ]
  },
  {
   "cell_type": "code",
   "execution_count": null,
   "metadata": {},
   "outputs": [],
   "source": [
    "workflow = StateGraph(AgentState)\n",
    "\n",
    "workflow.add_node(\"Architect\", architect_node)\n",
    "workflow.add_node(\"Coder\", coder_node)\n",
    "workflow.add_node(\"call_tool\", tool_node)\n",
    "\n",
    "workflow.add_conditional_edges(\n",
    "    \"Architect\",\n",
    "    router,\n",
    "    {\"continue\": \"Coder\", \"call_tool\": \"call_tool\", \"__end__\": END},\n",
    ")\n",
    "workflow.add_conditional_edges(\n",
    "    \"Coder\",\n",
    "    router,\n",
    "    {\"continue\": \"Architect\", \"call_tool\": \"call_tool\", \"__end__\": END},\n",
    ")\n",
    "\n",
    "workflow.add_conditional_edges(\n",
    "    \"call_tool\",\n",
    "    # Each agent node updates the 'sender' field\n",
    "    # the tool calling node does not, meaning\n",
    "    # this edge will route back to the original agent\n",
    "    # who invoked the tool\n",
    "    lambda x: x[\"sender\"],\n",
    "    {\n",
    "        \"Architect\": \"Architect\",\n",
    "        \"Coder\": \"Coder\",\n",
    "    },\n",
    ")\n",
    "workflow.set_entry_point(\"Architect\")\n",
    "graph = workflow.compile()"
   ]
  },
  {
   "cell_type": "markdown",
   "metadata": {},
   "source": [
    "## Invoke the Graph"
   ]
  },
  {
   "cell_type": "code",
   "execution_count": null,
   "metadata": {},
   "outputs": [],
   "source": [
    "user_input = read_input_json(\"test.json\")\n",
    "pp.pp(user_input)\n",
    "\n",
    "events = graph.stream(\n",
    "    {\n",
    "        \"messages\": [\n",
    "            HumanMessage(\n",
    "                content=f\"Create this project for me. Requirements are {user_input}. Once you code it up, finish.\"\n",
    "            )\n",
    "        ],\n",
    "    },\n",
    "    # Maximum number of steps to take in the graph\n",
    "    {\"recursion_limit\": 100},\n",
    ")\n",
    "for s in events:\n",
    "    print(s)\n",
    "    print(\"----\")"
   ]
  },
  {
   "cell_type": "markdown",
   "metadata": {},
   "source": [
    "# Everything below experimentation"
   ]
  },
  {
   "cell_type": "markdown",
   "metadata": {},
   "source": [
    "## Let's Create Basic chains needed by our agents"
   ]
  },
  {
   "cell_type": "code",
   "execution_count": 13,
   "metadata": {},
   "outputs": [],
   "source": [
    "# # Requirements Document Generator\n",
    "# supervisor_prompt = PromptTemplate(\n",
    "#     template=\"\"\"You are a requirements gathering specialist and your job is to understand the user requirement from the json text {json_user_input} and create a detailed, \\\n",
    "#         well defined requirements prompt from it that could be broken down into individual tasks to assign to team members!\"\"\", input_variables=[\"json_user_input\"],)\n",
    "\n",
    "# supervisor_prompt = PromptTemplate(template=\"\"\"You are excellent at system design and task break down, Break this task {summary} precisely and delegate the deliverables with precise requirements to different {members} to complete it independently.\"\"\", input_variables=[\"summary\",\"members\"])\n",
    "\n",
    "# coder_prompt = PromptTemplate(template=\"\"\"You are expert python developer, complete this coding {task} following all the security standards, secure packages, error handling, naming conventions and code documentation and then write it to the project folder\"\"\", input_variables=[\"task\"])\n"
   ]
  },
  {
   "cell_type": "code",
   "execution_count": 43,
   "metadata": {},
   "outputs": [
    {
     "name": "stdout",
     "output_type": "stream",
     "text": [
      "{\"edges\": [], \"nodes\": [{\"id\": \"node-b0\", \"name\": \"student-service\", \"language\": \"python\", \"grpcConfig\": {\"server\": {\"sqlDB\": \"Map\", \"port\": \"50052\", \"resources\": [{\"fields\": {\"Name\": {\"datatype\": \"str\"}, \"RollNumber\": {\"datatype\": \"int\"}, \"College\": {\"datatype\": \"str\"}, \"Sign\": {\"datatype\": \"str\"}, \"Marks\": {\"datatype\": \"int\"}, \"GateScore\": {\"datatype\": \"int\"}, \"IsPassed\": {\"datatype\": \"bool\"}}, \"name\": \"Student\"}]}, \"framework\": \"grpcio\"}}]}\n",
      "SystemArchitect,Coder,Tester,DeploymentSpecialist\n",
      "Project Overview:\n",
      "The project is centered around the development of a microservice called \"student-service\", which will be written in Python and utilize the gRPC framework (specifically grpcio) for communication. This microservice will be responsible for handling student-related data and operations.\n",
      "\n",
      "Functional Requirements:\n",
      "\n",
      "1. Microservice Identification:\n",
      "   - The microservice shall be identified as \"student-service\".\n",
      "\n",
      "2. Programming Language:\n",
      "   - The microservice shall be implemented using Python programming language.\n",
      "\n",
      "3. Communication Protocol:\n",
      "   - The microservice shall use gRPC as the communication protocol.\n",
      "\n",
      "4. Server Configuration:\n",
      "   - The microservice shall run a gRPC server listening on port 50052.\n",
      "   - The gRPC server shall be configured to interact with a SQL database referred to as \"Map\".\n",
      "\n",
      "5. Resource Definition:\n",
      "   - The microservice shall define a resource named \"Student\" with the following fields and corresponding data types:\n",
      "     - Name: string (str)\n",
      "     - RollNumber: integer (int)\n",
      "     - College: string (str)\n",
      "     - Sign: string (str)\n",
      "     - Marks: integer (int)\n",
      "     - GateScore: integer (int)\n",
      "     - IsPassed: boolean (bool)\n",
      "\n",
      "6. Data Operations:\n",
      "   - The microservice shall provide CRUD (Create, Read, Update, Delete) operations for the \"Student\" resource.\n",
      "   - The operations must be exposed as gRPC methods to be consumed by clients.\n",
      "\n",
      "7. Validation:\n",
      "   - The microservice shall perform necessary validations on the data fields, such as data type validation and required field checks, before processing the CRUD operations.\n",
      "\n",
      "Non-Functional Requirements:\n",
      "\n",
      "1. Performance:\n",
      "   - The microservice shall be optimized for high performance, with the ability to handle a high volume of concurrent requests without degradation of service.\n",
      "\n",
      "2. Scalability:\n",
      "   - The microservice shall be designed to be horizontally scalable to accommodate growing data volumes and user demands.\n",
      "\n",
      "3. Security:\n",
      "   - The microservice shall implement security best practices, including secure communication channels and data encryption where necessary.\n",
      "   - Proper authentication and authorization mechanisms shall be established for accessing the microservice's functionalities.\n",
      "\n",
      "4. Reliability:\n",
      "   - The microservice shall be reliable, with appropriate error handling and logging mechanisms in place.\n",
      "\n",
      "5. Maintainability:\n",
      "   - The code for the microservice shall be well-documented and structured to allow for easy maintenance and future enhancements.\n",
      "\n",
      "6. Deployment:\n",
      "   - The microservice shall be containerized for ease of deployment, scaling, and management.\n",
      "\n",
      "Deliverables:\n",
      "\n",
      "1. Microservice Design Document:\n",
      "   - A detailed design document outlining the architecture, components, data models, gRPC service definitions, and interaction flows of the \"student-service\".\n",
      "\n",
      "2. Implementation Plan:\n",
      "   - A step-by-step implementation plan that includes development, testing, and deployment phases.\n",
      "\n",
      "3. Source Code:\n",
      "   - Well-documented source code for the \"student-service\" microservice.\n",
      "\n",
      "4. Testing Suite:\n",
      "   - A comprehensive testing suite including unit tests, integration tests, and performance tests.\n",
      "\n",
      "5. Deployment Guidelines:\n",
      "   - A set of guidelines and scripts for deploying the microservice in a containerized environment.\n",
      "\n",
      "6. Maintenance and Upgrade Plan:\n",
      "   - A plan detailing the procedures for maintaining the microservice and applying future upgrades.\n",
      "\n",
      "This requirements document should be reviewed and approved by stakeholders before being forwarded to the solution architect for detailed technical design and planning.\n"
     ]
    }
   ],
   "source": [
    "# Supervisor Chain\n",
    "members = [\"SystemArchitect\", \"Coder\", \"Tester\", \"DeploymentSpecialist\"]\n",
    "supervisor_prompt = PromptTemplate(\n",
    "    template = \"\"\"You are a requirements gathering specialist and your job is to understand the user requirement from the json text {json_user_input} and create a very detailed, \\\n",
    "        well defined requirements prompt from it that could be forwarded to solution architect to break down into individual deliverables.! \n",
    "        \"\"\",\n",
    "        input_variables=[\"json_user_input\"],\n",
    ")\n",
    "# Our team supervisor is an LLM node. It just picks the next agent to process\n",
    "# and decides when the work is completed\n",
    "options = [\"FINISH\"] + members\n",
    "# Using openai function calling can make output parsing easier for us\n",
    "function_def = {\n",
    "    \"name\": \"route\",\n",
    "    \"description\": \"Select the next role.\",\n",
    "    \"parameters\": {\n",
    "        \"title\": \"routeSchema\",\n",
    "        \"type\": \"object\",\n",
    "        \"properties\": {\n",
    "            \"next\": {\n",
    "                \"title\": \"Next\",\n",
    "                \"anyOf\": [\n",
    "                    {\"enum\": options},\n",
    "                ],\n",
    "            }\n",
    "        },\n",
    "        \"required\": [\"next\"],\n",
    "    },\n",
    "}\n",
    "\n",
    "supervisor_chain = supervisor_prompt | llm | StrOutputParser()\n",
    "\n",
    "json_user_input = read_input_json(\"test.json\")\n",
    "members_str = ','.join(members)\n",
    "\n",
    "print(json_user_input)\n",
    "print(members_str)\n",
    "\n",
    "\n",
    "result = supervisor_chain.invoke({\"json_user_input\":json_user_input})\n",
    "\n",
    "print(result)"
   ]
  },
  {
   "cell_type": "code",
   "execution_count": 45,
   "metadata": {},
   "outputs": [
    {
     "name": "stdout",
     "output_type": "stream",
     "text": [
      "{'ProjectTasks': [{'TaskID': 1, 'Title': 'Review and Approval of Requirements Document', 'Description': 'Review the project requirements document with stakeholders for approval before starting the technical design.', 'AssignedTo': 'SystemArchitect', 'DueDate': 'YYYY-MM-DD', 'Dependencies': []}, {'TaskID': 2, 'Title': 'Microservice Design Document Creation', 'Description': \"Create a detailed design document outlining the architecture, components, data models, gRPC service definitions, and interaction flows for 'student-service'.\", 'AssignedTo': 'SystemArchitect', 'DueDate': 'YYYY-MM-DD', 'Dependencies': ['TaskID: 1']}, {'TaskID': 3, 'Title': 'Implementation Plan Development', 'Description': 'Develop a step-by-step implementation plan that includes development, testing, and deployment phases.', 'AssignedTo': 'SystemArchitect', 'DueDate': 'YYYY-MM-DD', 'Dependencies': ['TaskID: 2']}, {'TaskID': 4, 'Title': 'Microservice Source Code Development', 'Description': \"Program the 'student-service' microservice in Python using the gRPC framework, ensuring to meet all functional and non-functional requirements.\", 'AssignedTo': 'Coder', 'DueDate': 'YYYY-MM-DD', 'Dependencies': ['TaskID: 3']}, {'TaskID': 5, 'Title': 'Unit Tests Development', 'Description': \"Develop comprehensive unit tests to verify the individual components of the 'student-service' microservice.\", 'AssignedTo': 'Tester', 'DueDate': 'YYYY-MM-DD', 'Dependencies': ['TaskID: 4']}, {'TaskID': 6, 'Title': 'Integration and Performance Tests Development', 'Description': \"Develop integration tests to ensure the components work together as expected and performance tests to validate the microservice's performance.\", 'AssignedTo': 'Tester', 'DueDate': 'YYYY-MM-DD', 'Dependencies': ['TaskID: 5']}, {'TaskID': 7, 'Title': 'Security Measures Implementation', 'Description': 'Implement security best practices including secure communication channels, data encryption, and proper authentication and authorization mechanisms.', 'AssignedTo': 'Coder', 'DueDate': 'YYYY-MM-DD', 'Dependencies': ['TaskID: 4']}, {'TaskID': 8, 'Title': 'Microservice Containerization', 'Description': \"Containerize the 'student-service' microservice for deployment, scaling, and management.\", 'AssignedTo': 'DeploymentSpecialist', 'DueDate': 'YYYY-MM-DD', 'Dependencies': ['TaskID: 4', 'TaskID: 6', 'TaskID: 7']}, {'TaskID': 9, 'Title': 'Deployment Guidelines Creation', 'Description': \"Create a set of guidelines and scripts for deploying the 'student-service' in a containerized environment.\", 'AssignedTo': 'DeploymentSpecialist', 'DueDate': 'YYYY-MM-DD', 'Dependencies': ['TaskID: 8']}, {'TaskID': 10, 'Title': 'Maintenance and Upgrade Plan Development', 'Description': \"Develop a maintenance and upgrade plan detailing procedures for ongoing support and future upgrades of the 'student-service'.\", 'AssignedTo': 'SystemArchitect', 'DueDate': 'YYYY-MM-DD', 'Dependencies': ['TaskID: 9']}]}\n"
     ]
    }
   ],
   "source": [
    "# Solution Architect Chain\n",
    "architect_prompt = PromptTemplate(template = \"\"\"You are excellent at system design and task break down, Break this task {summary} precisely into independent tasks\\\n",
    "                                  and delegate the deliverables with precise requirements to the expert programmer in your team {members_str} to complete it task by task. Make sure the response follows a json format for easy parsing\"\"\", input_variables=[\"summary\",\"members_str\"]\n",
    "                                  )\n",
    "\n",
    "architect_chain = architect_prompt | llm | JsonOutputParser()\n",
    "\n",
    "summary = result\n",
    "new_result = architect_chain.invoke({\"summary\":summary, \"members_str\":members_str})\n",
    "\n",
    "print(new_result)"
   ]
  },
  {
   "cell_type": "code",
   "execution_count": 47,
   "metadata": {},
   "outputs": [
    {
     "name": "stdout",
     "output_type": "stream",
     "text": [
      "{'ProjectTasks': [{'TaskID': 1,\n",
      "                   'Title': 'Review and Approval of Requirements Document',\n",
      "                   'Description': 'Review the project requirements document '\n",
      "                                  'with stakeholders for approval before '\n",
      "                                  'starting the technical design.',\n",
      "                   'AssignedTo': 'SystemArchitect',\n",
      "                   'DueDate': 'YYYY-MM-DD',\n",
      "                   'Dependencies': []},\n",
      "                  {'TaskID': 2,\n",
      "                   'Title': 'Microservice Design Document Creation',\n",
      "                   'Description': 'Create a detailed design document outlining '\n",
      "                                  'the architecture, components, data models, '\n",
      "                                  'gRPC service definitions, and interaction '\n",
      "                                  \"flows for 'student-service'.\",\n",
      "                   'AssignedTo': 'SystemArchitect',\n",
      "                   'DueDate': 'YYYY-MM-DD',\n",
      "                   'Dependencies': ['TaskID: 1']},\n",
      "                  {'TaskID': 3,\n",
      "                   'Title': 'Implementation Plan Development',\n",
      "                   'Description': 'Develop a step-by-step implementation plan '\n",
      "                                  'that includes development, testing, and '\n",
      "                                  'deployment phases.',\n",
      "                   'AssignedTo': 'SystemArchitect',\n",
      "                   'DueDate': 'YYYY-MM-DD',\n",
      "                   'Dependencies': ['TaskID: 2']},\n",
      "                  {'TaskID': 4,\n",
      "                   'Title': 'Microservice Source Code Development',\n",
      "                   'Description': \"Program the 'student-service' microservice \"\n",
      "                                  'in Python using the gRPC framework, '\n",
      "                                  'ensuring to meet all functional and '\n",
      "                                  'non-functional requirements.',\n",
      "                   'AssignedTo': 'Coder',\n",
      "                   'DueDate': 'YYYY-MM-DD',\n",
      "                   'Dependencies': ['TaskID: 3']},\n",
      "                  {'TaskID': 5,\n",
      "                   'Title': 'Unit Tests Development',\n",
      "                   'Description': 'Develop comprehensive unit tests to verify '\n",
      "                                  'the individual components of the '\n",
      "                                  \"'student-service' microservice.\",\n",
      "                   'AssignedTo': 'Tester',\n",
      "                   'DueDate': 'YYYY-MM-DD',\n",
      "                   'Dependencies': ['TaskID: 4']},\n",
      "                  {'TaskID': 6,\n",
      "                   'Title': 'Integration and Performance Tests Development',\n",
      "                   'Description': 'Develop integration tests to ensure the '\n",
      "                                  'components work together as expected and '\n",
      "                                  'performance tests to validate the '\n",
      "                                  \"microservice's performance.\",\n",
      "                   'AssignedTo': 'Tester',\n",
      "                   'DueDate': 'YYYY-MM-DD',\n",
      "                   'Dependencies': ['TaskID: 5']},\n",
      "                  {'TaskID': 7,\n",
      "                   'Title': 'Security Measures Implementation',\n",
      "                   'Description': 'Implement security best practices including '\n",
      "                                  'secure communication channels, data '\n",
      "                                  'encryption, and proper authentication and '\n",
      "                                  'authorization mechanisms.',\n",
      "                   'AssignedTo': 'Coder',\n",
      "                   'DueDate': 'YYYY-MM-DD',\n",
      "                   'Dependencies': ['TaskID: 4']},\n",
      "                  {'TaskID': 8,\n",
      "                   'Title': 'Microservice Containerization',\n",
      "                   'Description': \"Containerize the 'student-service' \"\n",
      "                                  'microservice for deployment, scaling, and '\n",
      "                                  'management.',\n",
      "                   'AssignedTo': 'DeploymentSpecialist',\n",
      "                   'DueDate': 'YYYY-MM-DD',\n",
      "                   'Dependencies': ['TaskID: 4', 'TaskID: 6', 'TaskID: 7']},\n",
      "                  {'TaskID': 9,\n",
      "                   'Title': 'Deployment Guidelines Creation',\n",
      "                   'Description': 'Create a set of guidelines and scripts for '\n",
      "                                  \"deploying the 'student-service' in a \"\n",
      "                                  'containerized environment.',\n",
      "                   'AssignedTo': 'DeploymentSpecialist',\n",
      "                   'DueDate': 'YYYY-MM-DD',\n",
      "                   'Dependencies': ['TaskID: 8']},\n",
      "                  {'TaskID': 10,\n",
      "                   'Title': 'Maintenance and Upgrade Plan Development',\n",
      "                   'Description': 'Develop a maintenance and upgrade plan '\n",
      "                                  'detailing procedures for ongoing support '\n",
      "                                  'and future upgrades of the '\n",
      "                                  \"'student-service'.\",\n",
      "                   'AssignedTo': 'SystemArchitect',\n",
      "                   'DueDate': 'YYYY-MM-DD',\n",
      "                   'Dependencies': ['TaskID: 9']}]}\n"
     ]
    }
   ],
   "source": [
    "import pprint as pp\n",
    "pp.pp(new_result)"
   ]
  },
  {
   "cell_type": "code",
   "execution_count": 39,
   "metadata": {},
   "outputs": [
    {
     "name": "stdout",
     "output_type": "stream",
     "text": [
      "FINISH, SystemArchitect, Coder, Tester, DeploymentSpecialist\n",
      "SystemArchitect, Coder, Tester, DeploymentSpecialist\n"
     ]
    }
   ],
   "source": [
    "# Construct the options part\n",
    "options_str = \", \".join(options)\n",
    "print(options_str)\n",
    "\n",
    "# Construct the members part\n",
    "members_str = \", \".join(members)\n",
    "print(members_str)"
   ]
  },
  {
   "cell_type": "markdown",
   "metadata": {},
   "source": [
    "## Define the Agent State Class that will be passed to other agents in the graph"
   ]
  },
  {
   "cell_type": "code",
   "execution_count": 14,
   "metadata": {},
   "outputs": [],
   "source": [
    "from typing import TypedDict, List, Union, Dict, Any\n",
    "\n",
    "class AgentState(TypedDict):\n",
    "    user_input: str\n",
    "    current_task: str\n",
    "    tasks: List[str]\n",
    "    worker_results: Dict[str, Any]"
   ]
  },
  {
   "cell_type": "markdown",
   "metadata": {},
   "source": [
    "## Define Supervisor and worker agent node initilazation"
   ]
  },
  {
   "cell_type": "code",
   "execution_count": 15,
   "metadata": {},
   "outputs": [],
   "source": [
    "def supervisor_agent(state: AgentState, filepath: str) -> AgentState:\n",
    "    # Initial state setup\n",
    "    if not state.get('user_input'):\n",
    "        state['user_input'] = read_input_json(filepath)\n",
    "        state['current_task'] = 'Convert user input to requirements prompt'\n",
    "    elif state['current_task'] == 'Convert user input to requirements prompt':\n",
    "        # Assuming the worker agent has processed the input and returned a requirements prompt\n",
    "        state['current_task'] = 'Break down requirements into tasks'\n",
    "    elif state['current_task'] == 'Break down requirements into tasks':\n",
    "        # Assuming the worker agent has broken down the requirements into tasks\n",
    "        state['current_task'] = 'Assign tasks to workers'\n",
    "    return state"
   ]
  },
  {
   "cell_type": "code",
   "execution_count": 16,
   "metadata": {},
   "outputs": [],
   "source": [
    "def worker_agent(state: AgentState) -> AgentState:\n",
    "    if state['current_task'] == 'Convert user input to requirements prompt':\n",
    "        # Simulate converting user input to a requirements prompt\n",
    "        state['current_task'] = 'Break down requirements into tasks'\n",
    "        state['tasks'] = ['Task 1', 'Task 2', 'Task 3']\n",
    "    elif state['current_task'] == 'Break down requirements into tasks':\n",
    "        # Simulate breaking down the requirements into tasks\n",
    "        state['current_task'] = 'Assign tasks to workers'\n",
    "        state['worker_results'] = {'A': ['Task 1'], 'B': ['Task 2'], 'C': ['Task 3']}\n",
    "    return state"
   ]
  },
  {
   "cell_type": "markdown",
   "metadata": {},
   "source": [
    "## Now Let's build a simple langgraph and see how this setup works"
   ]
  },
  {
   "cell_type": "code",
   "execution_count": 33,
   "metadata": {},
   "outputs": [
    {
     "ename": "TypeError",
     "evalue": "Expected a Runnable, callable or dict.Instead got an unsupported type: <class 'str'>",
     "output_type": "error",
     "traceback": [
      "\u001b[1;31m---------------------------------------------------------------------------\u001b[0m",
      "\u001b[1;31mTypeError\u001b[0m                                 Traceback (most recent call last)",
      "Cell \u001b[1;32mIn[33], line 26\u001b[0m\n\u001b[0;32m     23\u001b[0m workflow \u001b[38;5;241m=\u001b[39m StateGraph(AgentState)\n\u001b[0;32m     25\u001b[0m \u001b[38;5;66;03m# Define the nodes for the supervisor and worker agents\u001b[39;00m\n\u001b[1;32m---> 26\u001b[0m \u001b[43mworkflow\u001b[49m\u001b[38;5;241;43m.\u001b[39;49m\u001b[43madd_node\u001b[49m\u001b[43m(\u001b[49m\u001b[38;5;124;43m\"\u001b[39;49m\u001b[38;5;124;43msupervisor\u001b[39;49m\u001b[38;5;124;43m\"\u001b[39;49m\u001b[43m,\u001b[49m\u001b[43m \u001b[49m\u001b[43msupervisor_agent\u001b[49m\u001b[43m(\u001b[49m\u001b[43mstate\u001b[49m\u001b[38;5;241;43m=\u001b[39;49m\u001b[43minitial_state\u001b[49m\u001b[43m,\u001b[49m\u001b[43m \u001b[49m\u001b[43mfilepath\u001b[49m\u001b[43m \u001b[49m\u001b[38;5;241;43m=\u001b[39;49m\u001b[43m \u001b[49m\u001b[38;5;124;43m\"\u001b[39;49m\u001b[38;5;124;43mtest.json\u001b[39;49m\u001b[38;5;124;43m\"\u001b[39;49m\u001b[43m)\u001b[49m\u001b[43m)\u001b[49m\n\u001b[0;32m     27\u001b[0m workflow\u001b[38;5;241m.\u001b[39madd_node(\u001b[38;5;124m\"\u001b[39m\u001b[38;5;124mworker\u001b[39m\u001b[38;5;124m\"\u001b[39m, worker_agent)\n\u001b[0;32m     29\u001b[0m \u001b[38;5;66;03m# Set the entry point as `supervisor`\u001b[39;00m\n",
      "File \u001b[1;32mc:\\Users\\vkumar\\OneDrive - Imagevision.ai India Pvt Ltd\\Documents\\Projects\\Compage-Agents\\.venv\\Lib\\site-packages\\langgraph\\graph\\state.py:64\u001b[0m, in \u001b[0;36mStateGraph.add_node\u001b[1;34m(self, key, action)\u001b[0m\n\u001b[0;32m     62\u001b[0m \u001b[38;5;28;01mif\u001b[39;00m key \u001b[38;5;129;01min\u001b[39;00m \u001b[38;5;28mself\u001b[39m\u001b[38;5;241m.\u001b[39mchannels:\n\u001b[0;32m     63\u001b[0m     \u001b[38;5;28;01mraise\u001b[39;00m \u001b[38;5;167;01mValueError\u001b[39;00m(\u001b[38;5;124mf\u001b[39m\u001b[38;5;124m\"\u001b[39m\u001b[38;5;124m'\u001b[39m\u001b[38;5;132;01m{\u001b[39;00mkey\u001b[38;5;132;01m}\u001b[39;00m\u001b[38;5;124m'\u001b[39m\u001b[38;5;124m is already being used as a state key\u001b[39m\u001b[38;5;124m\"\u001b[39m)\n\u001b[1;32m---> 64\u001b[0m \u001b[38;5;28;01mreturn\u001b[39;00m \u001b[38;5;28;43msuper\u001b[39;49m\u001b[43m(\u001b[49m\u001b[43m)\u001b[49m\u001b[38;5;241;43m.\u001b[39;49m\u001b[43madd_node\u001b[49m\u001b[43m(\u001b[49m\u001b[43mkey\u001b[49m\u001b[43m,\u001b[49m\u001b[43m \u001b[49m\u001b[43maction\u001b[49m\u001b[43m)\u001b[49m\n",
      "File \u001b[1;32mc:\\Users\\vkumar\\OneDrive - Imagevision.ai India Pvt Ltd\\Documents\\Projects\\Compage-Agents\\.venv\\Lib\\site-packages\\langgraph\\graph\\graph.py:120\u001b[0m, in \u001b[0;36mGraph.add_node\u001b[1;34m(self, key, action)\u001b[0m\n\u001b[0;32m    117\u001b[0m \u001b[38;5;28;01mif\u001b[39;00m key \u001b[38;5;241m==\u001b[39m END \u001b[38;5;129;01mor\u001b[39;00m key \u001b[38;5;241m==\u001b[39m START:\n\u001b[0;32m    118\u001b[0m     \u001b[38;5;28;01mraise\u001b[39;00m \u001b[38;5;167;01mValueError\u001b[39;00m(\u001b[38;5;124mf\u001b[39m\u001b[38;5;124m\"\u001b[39m\u001b[38;5;124mNode `\u001b[39m\u001b[38;5;132;01m{\u001b[39;00mkey\u001b[38;5;132;01m}\u001b[39;00m\u001b[38;5;124m` is reserved.\u001b[39m\u001b[38;5;124m\"\u001b[39m)\n\u001b[1;32m--> 120\u001b[0m \u001b[38;5;28mself\u001b[39m\u001b[38;5;241m.\u001b[39mnodes[key] \u001b[38;5;241m=\u001b[39m \u001b[43mcoerce_to_runnable\u001b[49m\u001b[43m(\u001b[49m\u001b[43maction\u001b[49m\u001b[43m,\u001b[49m\u001b[43m \u001b[49m\u001b[43mname\u001b[49m\u001b[38;5;241;43m=\u001b[39;49m\u001b[43mkey\u001b[49m\u001b[43m,\u001b[49m\u001b[43m \u001b[49m\u001b[43mtrace\u001b[49m\u001b[38;5;241;43m=\u001b[39;49m\u001b[38;5;28;43;01mFalse\u001b[39;49;00m\u001b[43m)\u001b[49m\n",
      "File \u001b[1;32mc:\\Users\\vkumar\\OneDrive - Imagevision.ai India Pvt Ltd\\Documents\\Projects\\Compage-Agents\\.venv\\Lib\\site-packages\\langgraph\\utils.py:172\u001b[0m, in \u001b[0;36mcoerce_to_runnable\u001b[1;34m(thing, name, trace)\u001b[0m\n\u001b[0;32m    168\u001b[0m         \u001b[38;5;28;01mreturn\u001b[39;00m RunnableCallable(\n\u001b[0;32m    169\u001b[0m             thing, partial(run_in_executor, \u001b[38;5;28;01mNone\u001b[39;00m, thing), name\u001b[38;5;241m=\u001b[39mname, trace\u001b[38;5;241m=\u001b[39mtrace\n\u001b[0;32m    170\u001b[0m         )\n\u001b[0;32m    171\u001b[0m \u001b[38;5;28;01melif\u001b[39;00m \u001b[38;5;28misinstance\u001b[39m(thing, \u001b[38;5;28mdict\u001b[39m):\n\u001b[1;32m--> 172\u001b[0m     \u001b[38;5;28;01mreturn\u001b[39;00m \u001b[43mRunnableParallel\u001b[49m\u001b[43m(\u001b[49m\u001b[43mthing\u001b[49m\u001b[43m)\u001b[49m\n\u001b[0;32m    173\u001b[0m \u001b[38;5;28;01melse\u001b[39;00m:\n\u001b[0;32m    174\u001b[0m     \u001b[38;5;28;01mraise\u001b[39;00m \u001b[38;5;167;01mTypeError\u001b[39;00m(\n\u001b[0;32m    175\u001b[0m         \u001b[38;5;124mf\u001b[39m\u001b[38;5;124m\"\u001b[39m\u001b[38;5;124mExpected a Runnable, callable or dict.\u001b[39m\u001b[38;5;124m\"\u001b[39m\n\u001b[0;32m    176\u001b[0m         \u001b[38;5;124mf\u001b[39m\u001b[38;5;124m\"\u001b[39m\u001b[38;5;124mInstead got an unsupported type: \u001b[39m\u001b[38;5;132;01m{\u001b[39;00m\u001b[38;5;28mtype\u001b[39m(thing)\u001b[38;5;132;01m}\u001b[39;00m\u001b[38;5;124m\"\u001b[39m\n\u001b[0;32m    177\u001b[0m     )\n",
      "File \u001b[1;32mc:\\Users\\vkumar\\OneDrive - Imagevision.ai India Pvt Ltd\\Documents\\Projects\\Compage-Agents\\.venv\\Lib\\site-packages\\langchain_core\\runnables\\base.py:3007\u001b[0m, in \u001b[0;36mRunnableParallel.__init__\u001b[1;34m(self, steps__, **kwargs)\u001b[0m\n\u001b[0;32m   3004\u001b[0m merged \u001b[38;5;241m=\u001b[39m {\u001b[38;5;241m*\u001b[39m\u001b[38;5;241m*\u001b[39msteps__} \u001b[38;5;28;01mif\u001b[39;00m steps__ \u001b[38;5;129;01mis\u001b[39;00m \u001b[38;5;129;01mnot\u001b[39;00m \u001b[38;5;28;01mNone\u001b[39;00m \u001b[38;5;28;01melse\u001b[39;00m {}\n\u001b[0;32m   3005\u001b[0m merged\u001b[38;5;241m.\u001b[39mupdate(kwargs)\n\u001b[0;32m   3006\u001b[0m \u001b[38;5;28msuper\u001b[39m()\u001b[38;5;241m.\u001b[39m\u001b[38;5;21m__init__\u001b[39m(  \u001b[38;5;66;03m# type: ignore[call-arg]\u001b[39;00m\n\u001b[1;32m-> 3007\u001b[0m     steps__\u001b[38;5;241m=\u001b[39m{key: \u001b[43mcoerce_to_runnable\u001b[49m\u001b[43m(\u001b[49m\u001b[43mr\u001b[49m\u001b[43m)\u001b[49m \u001b[38;5;28;01mfor\u001b[39;00m key, r \u001b[38;5;129;01min\u001b[39;00m merged\u001b[38;5;241m.\u001b[39mitems()}\n\u001b[0;32m   3008\u001b[0m )\n",
      "File \u001b[1;32mc:\\Users\\vkumar\\OneDrive - Imagevision.ai India Pvt Ltd\\Documents\\Projects\\Compage-Agents\\.venv\\Lib\\site-packages\\langchain_core\\runnables\\base.py:4977\u001b[0m, in \u001b[0;36mcoerce_to_runnable\u001b[1;34m(thing)\u001b[0m\n\u001b[0;32m   4975\u001b[0m     \u001b[38;5;28;01mreturn\u001b[39;00m cast(Runnable[Input, Output], RunnableParallel(thing))\n\u001b[0;32m   4976\u001b[0m \u001b[38;5;28;01melse\u001b[39;00m:\n\u001b[1;32m-> 4977\u001b[0m     \u001b[38;5;28;01mraise\u001b[39;00m \u001b[38;5;167;01mTypeError\u001b[39;00m(\n\u001b[0;32m   4978\u001b[0m         \u001b[38;5;124mf\u001b[39m\u001b[38;5;124m\"\u001b[39m\u001b[38;5;124mExpected a Runnable, callable or dict.\u001b[39m\u001b[38;5;124m\"\u001b[39m\n\u001b[0;32m   4979\u001b[0m         \u001b[38;5;124mf\u001b[39m\u001b[38;5;124m\"\u001b[39m\u001b[38;5;124mInstead got an unsupported type: \u001b[39m\u001b[38;5;132;01m{\u001b[39;00m\u001b[38;5;28mtype\u001b[39m(thing)\u001b[38;5;132;01m}\u001b[39;00m\u001b[38;5;124m\"\u001b[39m\n\u001b[0;32m   4980\u001b[0m     )\n",
      "\u001b[1;31mTypeError\u001b[0m: Expected a Runnable, callable or dict.Instead got an unsupported type: <class 'str'>"
     ]
    }
   ],
   "source": [
    "from langgraph.graph import StateGraph, END\n",
    "import json\n",
    "\n",
    "members = [\"SystemArchitect\", \"Coder\", \"Tester\", \"DeploymentSpecialist\"]\n",
    "json_user_input = read_input_json(\"test.json\")\n",
    "# Initialize the state with default values\n",
    "initial_state = {\n",
    "    \"user_input\": None, # Assuming an empty string as default for user_input\n",
    "    \"current_task\": \"\", # Assuming an empty string as default for current_task\n",
    "    \"tasks\": [], # Assuming an empty list for tasks\n",
    "    \"worker_results\": {} # Assuming an empty dictionary for worker_results\n",
    "}\n",
    "\n",
    "\n",
    "# Create the supervisor agent\n",
    "supervisor_agent_instance = create_agent(llm, [], f\"You are a requirements gathering specialist and your job is to understand the user requirement from the json text {json_user_input} and create a detailed, \\\n",
    "        well defined requirements prompt from it that could be broken down into individual tasks to assign to team members!\")\n",
    "\n",
    "# Create the worker agent\n",
    "worker_agent_instance = create_agent(llm, [], \"You are an efficient worker who completes the tasks to perforfection.\")\n",
    "\n",
    "# Define a new graph\n",
    "workflow = StateGraph(AgentState)\n",
    "\n",
    "# Define the nodes for the supervisor and worker agents\n",
    "workflow.add_node(\"supervisor\", supervisor_agent(state=initial_state, filepath = \"test.json\"))\n",
    "workflow.add_node(\"worker\", worker_agent)\n",
    "\n",
    "# Set the entry point as `supervisor`\n",
    "workflow.set_entry_point(\"supervisor\")\n",
    "\n",
    "# Add conditional edges to control the flow\n",
    "workflow.add_conditional_edges(\n",
    "    \"supervisor\",\n",
    "    lambda state: state['current_task'],\n",
    "    {\n",
    "        \"Convert user input to requirements prompt\": \"worker\",\n",
    "        \"Break down requirements into tasks\": \"worker\",\n",
    "        \"Assign tasks to workers\": END\n",
    "    }\n",
    ")\n",
    "\n",
    "# Add an edge from `worker` back to `supervisor`\n",
    "workflow.add_edge('worker', 'supervisor')\n",
    "\n",
    "# Compile the graph\n",
    "app = workflow.compile()"
   ]
  },
  {
   "cell_type": "markdown",
   "metadata": {},
   "source": [
    "## Let's initialize the AgentState and run the graph to see how it works"
   ]
  },
  {
   "cell_type": "code",
   "execution_count": 30,
   "metadata": {},
   "outputs": [
    {
     "ename": "TypeError",
     "evalue": "supervisor_agent() missing 1 required positional argument: 'filepath'",
     "output_type": "error",
     "traceback": [
      "\u001b[1;31m---------------------------------------------------------------------------\u001b[0m",
      "\u001b[1;31mTypeError\u001b[0m                                 Traceback (most recent call last)",
      "Cell \u001b[1;32mIn[30], line 10\u001b[0m\n\u001b[0;32m      2\u001b[0m initial_state \u001b[38;5;241m=\u001b[39m {\n\u001b[0;32m      3\u001b[0m     \u001b[38;5;124m\"\u001b[39m\u001b[38;5;124muser_input\u001b[39m\u001b[38;5;124m\"\u001b[39m: \u001b[38;5;28;01mNone\u001b[39;00m, \u001b[38;5;66;03m# Assuming an empty string as default for user_input\u001b[39;00m\n\u001b[0;32m      4\u001b[0m     \u001b[38;5;124m\"\u001b[39m\u001b[38;5;124mcurrent_task\u001b[39m\u001b[38;5;124m\"\u001b[39m: \u001b[38;5;124m\"\u001b[39m\u001b[38;5;124m\"\u001b[39m, \u001b[38;5;66;03m# Assuming an empty string as default for current_task\u001b[39;00m\n\u001b[0;32m      5\u001b[0m     \u001b[38;5;124m\"\u001b[39m\u001b[38;5;124mtasks\u001b[39m\u001b[38;5;124m\"\u001b[39m: [], \u001b[38;5;66;03m# Assuming an empty list for tasks\u001b[39;00m\n\u001b[0;32m      6\u001b[0m     \u001b[38;5;124m\"\u001b[39m\u001b[38;5;124mworker_results\u001b[39m\u001b[38;5;124m\"\u001b[39m: {} \u001b[38;5;66;03m# Assuming an empty dictionary for worker_results\u001b[39;00m\n\u001b[0;32m      7\u001b[0m }\n\u001b[0;32m      9\u001b[0m \u001b[38;5;66;03m# Invoking the graph to see how it performs.\u001b[39;00m\n\u001b[1;32m---> 10\u001b[0m \u001b[38;5;28;43;01mfor\u001b[39;49;00m\u001b[43m \u001b[49m\u001b[43ms\u001b[49m\u001b[43m \u001b[49m\u001b[38;5;129;43;01min\u001b[39;49;00m\u001b[43m \u001b[49m\u001b[43mapp\u001b[49m\u001b[38;5;241;43m.\u001b[39;49m\u001b[43mstream\u001b[49m\u001b[43m(\u001b[49m\n\u001b[0;32m     11\u001b[0m \u001b[43m    \u001b[49m\u001b[43minitial_state\u001b[49m\n\u001b[0;32m     12\u001b[0m \u001b[43m)\u001b[49m\u001b[43m:\u001b[49m\n\u001b[0;32m     13\u001b[0m \u001b[43m    \u001b[49m\u001b[38;5;28;43;01mif\u001b[39;49;00m\u001b[43m \u001b[49m\u001b[38;5;124;43m\"\u001b[39;49m\u001b[38;5;124;43m__end__\u001b[39;49m\u001b[38;5;124;43m\"\u001b[39;49m\u001b[43m \u001b[49m\u001b[38;5;129;43;01mnot\u001b[39;49;00m\u001b[43m \u001b[49m\u001b[38;5;129;43;01min\u001b[39;49;00m\u001b[43m \u001b[49m\u001b[43ms\u001b[49m\u001b[43m:\u001b[49m\n\u001b[0;32m     14\u001b[0m \u001b[43m        \u001b[49m\u001b[38;5;28;43mprint\u001b[39;49m\u001b[43m(\u001b[49m\u001b[43ms\u001b[49m\u001b[43m)\u001b[49m\n",
      "File \u001b[1;32mc:\\Users\\vkumar\\OneDrive - Imagevision.ai India Pvt Ltd\\Documents\\Projects\\Compage-Agents\\.venv\\Lib\\site-packages\\langgraph\\pregel\\__init__.py:709\u001b[0m, in \u001b[0;36mPregel.stream\u001b[1;34m(self, input, config, stream_mode, output_keys, input_keys, interrupt_before, interrupt_after, debug)\u001b[0m\n\u001b[0;32m    702\u001b[0m done, inflight \u001b[38;5;241m=\u001b[39m concurrent\u001b[38;5;241m.\u001b[39mfutures\u001b[38;5;241m.\u001b[39mwait(\n\u001b[0;32m    703\u001b[0m     futures,\n\u001b[0;32m    704\u001b[0m     return_when\u001b[38;5;241m=\u001b[39mconcurrent\u001b[38;5;241m.\u001b[39mfutures\u001b[38;5;241m.\u001b[39mFIRST_EXCEPTION,\n\u001b[0;32m    705\u001b[0m     timeout\u001b[38;5;241m=\u001b[39m\u001b[38;5;28mself\u001b[39m\u001b[38;5;241m.\u001b[39mstep_timeout,\n\u001b[0;32m    706\u001b[0m )\n\u001b[0;32m    708\u001b[0m \u001b[38;5;66;03m# panic on failure or timeout\u001b[39;00m\n\u001b[1;32m--> 709\u001b[0m \u001b[43m_panic_or_proceed\u001b[49m\u001b[43m(\u001b[49m\u001b[43mdone\u001b[49m\u001b[43m,\u001b[49m\u001b[43m \u001b[49m\u001b[43minflight\u001b[49m\u001b[43m,\u001b[49m\u001b[43m \u001b[49m\u001b[43mstep\u001b[49m\u001b[43m)\u001b[49m\n\u001b[0;32m    711\u001b[0m \u001b[38;5;66;03m# combine pending writes from all tasks\u001b[39;00m\n\u001b[0;32m    712\u001b[0m pending_writes \u001b[38;5;241m=\u001b[39m deque[\u001b[38;5;28mtuple\u001b[39m[\u001b[38;5;28mstr\u001b[39m, Any]]()\n",
      "File \u001b[1;32mc:\\Users\\vkumar\\OneDrive - Imagevision.ai India Pvt Ltd\\Documents\\Projects\\Compage-Agents\\.venv\\Lib\\site-packages\\langgraph\\pregel\\__init__.py:1182\u001b[0m, in \u001b[0;36m_panic_or_proceed\u001b[1;34m(done, inflight, step)\u001b[0m\n\u001b[0;32m   1180\u001b[0m             inflight\u001b[38;5;241m.\u001b[39mpop()\u001b[38;5;241m.\u001b[39mcancel()\n\u001b[0;32m   1181\u001b[0m         \u001b[38;5;66;03m# raise the exception\u001b[39;00m\n\u001b[1;32m-> 1182\u001b[0m         \u001b[38;5;28;01mraise\u001b[39;00m exc\n\u001b[0;32m   1183\u001b[0m         \u001b[38;5;66;03m# TODO this is where retry of an entire step would happen\u001b[39;00m\n\u001b[0;32m   1185\u001b[0m \u001b[38;5;28;01mif\u001b[39;00m inflight:\n\u001b[0;32m   1186\u001b[0m     \u001b[38;5;66;03m# if we got here means we timed out\u001b[39;00m\n",
      "File \u001b[1;32mC:\\Program Files\\WindowsApps\\PythonSoftwareFoundation.Python.3.12_3.12.1008.0_x64__qbz5n2kfra8p0\\Lib\\concurrent\\futures\\thread.py:58\u001b[0m, in \u001b[0;36m_WorkItem.run\u001b[1;34m(self)\u001b[0m\n\u001b[0;32m     55\u001b[0m     \u001b[38;5;28;01mreturn\u001b[39;00m\n\u001b[0;32m     57\u001b[0m \u001b[38;5;28;01mtry\u001b[39;00m:\n\u001b[1;32m---> 58\u001b[0m     result \u001b[38;5;241m=\u001b[39m \u001b[38;5;28;43mself\u001b[39;49m\u001b[38;5;241;43m.\u001b[39;49m\u001b[43mfn\u001b[49m\u001b[43m(\u001b[49m\u001b[38;5;241;43m*\u001b[39;49m\u001b[38;5;28;43mself\u001b[39;49m\u001b[38;5;241;43m.\u001b[39;49m\u001b[43margs\u001b[49m\u001b[43m,\u001b[49m\u001b[43m \u001b[49m\u001b[38;5;241;43m*\u001b[39;49m\u001b[38;5;241;43m*\u001b[39;49m\u001b[38;5;28;43mself\u001b[39;49m\u001b[38;5;241;43m.\u001b[39;49m\u001b[43mkwargs\u001b[49m\u001b[43m)\u001b[49m\n\u001b[0;32m     59\u001b[0m \u001b[38;5;28;01mexcept\u001b[39;00m \u001b[38;5;167;01mBaseException\u001b[39;00m \u001b[38;5;28;01mas\u001b[39;00m exc:\n\u001b[0;32m     60\u001b[0m     \u001b[38;5;28mself\u001b[39m\u001b[38;5;241m.\u001b[39mfuture\u001b[38;5;241m.\u001b[39mset_exception(exc)\n",
      "File \u001b[1;32mc:\\Users\\vkumar\\OneDrive - Imagevision.ai India Pvt Ltd\\Documents\\Projects\\Compage-Agents\\.venv\\Lib\\site-packages\\langchain_core\\runnables\\base.py:2499\u001b[0m, in \u001b[0;36mRunnableSequence.invoke\u001b[1;34m(self, input, config)\u001b[0m\n\u001b[0;32m   2497\u001b[0m \u001b[38;5;28;01mtry\u001b[39;00m:\n\u001b[0;32m   2498\u001b[0m     \u001b[38;5;28;01mfor\u001b[39;00m i, step \u001b[38;5;129;01min\u001b[39;00m \u001b[38;5;28menumerate\u001b[39m(\u001b[38;5;28mself\u001b[39m\u001b[38;5;241m.\u001b[39msteps):\n\u001b[1;32m-> 2499\u001b[0m         \u001b[38;5;28minput\u001b[39m \u001b[38;5;241m=\u001b[39m \u001b[43mstep\u001b[49m\u001b[38;5;241;43m.\u001b[39;49m\u001b[43minvoke\u001b[49m\u001b[43m(\u001b[49m\n\u001b[0;32m   2500\u001b[0m \u001b[43m            \u001b[49m\u001b[38;5;28;43minput\u001b[39;49m\u001b[43m,\u001b[49m\n\u001b[0;32m   2501\u001b[0m \u001b[43m            \u001b[49m\u001b[38;5;66;43;03m# mark each step as a child run\u001b[39;49;00m\n\u001b[0;32m   2502\u001b[0m \u001b[43m            \u001b[49m\u001b[43mpatch_config\u001b[49m\u001b[43m(\u001b[49m\n\u001b[0;32m   2503\u001b[0m \u001b[43m                \u001b[49m\u001b[43mconfig\u001b[49m\u001b[43m,\u001b[49m\u001b[43m \u001b[49m\u001b[43mcallbacks\u001b[49m\u001b[38;5;241;43m=\u001b[39;49m\u001b[43mrun_manager\u001b[49m\u001b[38;5;241;43m.\u001b[39;49m\u001b[43mget_child\u001b[49m\u001b[43m(\u001b[49m\u001b[38;5;124;43mf\u001b[39;49m\u001b[38;5;124;43m\"\u001b[39;49m\u001b[38;5;124;43mseq:step:\u001b[39;49m\u001b[38;5;132;43;01m{\u001b[39;49;00m\u001b[43mi\u001b[49m\u001b[38;5;241;43m+\u001b[39;49m\u001b[38;5;241;43m1\u001b[39;49m\u001b[38;5;132;43;01m}\u001b[39;49;00m\u001b[38;5;124;43m\"\u001b[39;49m\u001b[43m)\u001b[49m\n\u001b[0;32m   2504\u001b[0m \u001b[43m            \u001b[49m\u001b[43m)\u001b[49m\u001b[43m,\u001b[49m\n\u001b[0;32m   2505\u001b[0m \u001b[43m        \u001b[49m\u001b[43m)\u001b[49m\n\u001b[0;32m   2506\u001b[0m \u001b[38;5;66;03m# finish the root run\u001b[39;00m\n\u001b[0;32m   2507\u001b[0m \u001b[38;5;28;01mexcept\u001b[39;00m \u001b[38;5;167;01mBaseException\u001b[39;00m \u001b[38;5;28;01mas\u001b[39;00m e:\n",
      "File \u001b[1;32mc:\\Users\\vkumar\\OneDrive - Imagevision.ai India Pvt Ltd\\Documents\\Projects\\Compage-Agents\\.venv\\Lib\\site-packages\\langgraph\\utils.py:88\u001b[0m, in \u001b[0;36mRunnableCallable.invoke\u001b[1;34m(self, input, config)\u001b[0m\n\u001b[0;32m     82\u001b[0m     context\u001b[38;5;241m.\u001b[39mrun(var_child_runnable_config\u001b[38;5;241m.\u001b[39mset, config)\n\u001b[0;32m     83\u001b[0m     kwargs \u001b[38;5;241m=\u001b[39m (\n\u001b[0;32m     84\u001b[0m         {\u001b[38;5;241m*\u001b[39m\u001b[38;5;241m*\u001b[39m\u001b[38;5;28mself\u001b[39m\u001b[38;5;241m.\u001b[39mkwargs, \u001b[38;5;124m\"\u001b[39m\u001b[38;5;124mconfig\u001b[39m\u001b[38;5;124m\"\u001b[39m: config}\n\u001b[0;32m     85\u001b[0m         \u001b[38;5;28;01mif\u001b[39;00m accepts_config(\u001b[38;5;28mself\u001b[39m\u001b[38;5;241m.\u001b[39mfunc)\n\u001b[0;32m     86\u001b[0m         \u001b[38;5;28;01melse\u001b[39;00m \u001b[38;5;28mself\u001b[39m\u001b[38;5;241m.\u001b[39mkwargs\n\u001b[0;32m     87\u001b[0m     )\n\u001b[1;32m---> 88\u001b[0m     ret \u001b[38;5;241m=\u001b[39m \u001b[43mcontext\u001b[49m\u001b[38;5;241;43m.\u001b[39;49m\u001b[43mrun\u001b[49m\u001b[43m(\u001b[49m\u001b[38;5;28;43mself\u001b[39;49m\u001b[38;5;241;43m.\u001b[39;49m\u001b[43mfunc\u001b[49m\u001b[43m,\u001b[49m\u001b[43m \u001b[49m\u001b[38;5;28;43minput\u001b[39;49m\u001b[43m,\u001b[49m\u001b[43m \u001b[49m\u001b[38;5;241;43m*\u001b[39;49m\u001b[38;5;241;43m*\u001b[39;49m\u001b[43mkwargs\u001b[49m\u001b[43m)\u001b[49m\n\u001b[0;32m     89\u001b[0m \u001b[38;5;28;01mif\u001b[39;00m \u001b[38;5;28misinstance\u001b[39m(ret, Runnable) \u001b[38;5;129;01mand\u001b[39;00m \u001b[38;5;28mself\u001b[39m\u001b[38;5;241m.\u001b[39mrecurse:\n\u001b[0;32m     90\u001b[0m     \u001b[38;5;28;01mreturn\u001b[39;00m ret\u001b[38;5;241m.\u001b[39minvoke(\u001b[38;5;28minput\u001b[39m, config)\n",
      "\u001b[1;31mTypeError\u001b[0m: supervisor_agent() missing 1 required positional argument: 'filepath'"
     ]
    }
   ],
   "source": [
    "# Invoking the graph to see how it performs.\n",
    "for s in app.stream(\n",
    "    initial_state\n",
    "):\n",
    "    if \"__end__\" not in s:\n",
    "        print(s)\n",
    "        print(\"----\")"
   ]
  }
 ],
 "metadata": {
  "kernelspec": {
   "display_name": ".venv",
   "language": "python",
   "name": "python3"
  },
  "language_info": {
   "codemirror_mode": {
    "name": "ipython",
    "version": 3
   },
   "file_extension": ".py",
   "mimetype": "text/x-python",
   "name": "python",
   "nbconvert_exporter": "python",
   "pygments_lexer": "ipython3",
   "version": "3.12.3"
  }
 },
 "nbformat": 4,
 "nbformat_minor": 2
}
